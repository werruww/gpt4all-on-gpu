{
  "nbformat": 4,
  "nbformat_minor": 0,
  "metadata": {
    "colab": {
      "provenance": [],
      "gpuType": "T4"
    },
    "kernelspec": {
      "name": "python3",
      "display_name": "Python 3"
    },
    "language_info": {
      "name": "python"
    },
    "accelerator": "GPU"
  },
  "cells": [
    {
      "cell_type": "code",
      "execution_count": null,
      "metadata": {
        "id": "TcL4TJm0kYmY"
      },
      "outputs": [],
      "source": []
    },
    {
      "cell_type": "code",
      "source": [
        "!pip install \"gpt4all[cuda]\""
      ],
      "metadata": {
        "colab": {
          "base_uri": "https://localhost:8080/"
        },
        "id": "_ZGAsJhQkciO",
        "outputId": "44e3fdbe-22a6-4a89-cf53-a0a7dd09e13c"
      },
      "execution_count": 1,
      "outputs": [
        {
          "output_type": "stream",
          "name": "stdout",
          "text": [
            "Collecting gpt4all[cuda]\n",
            "  Downloading gpt4all-2.8.2-py3-none-manylinux1_x86_64.whl.metadata (4.8 kB)\n",
            "Requirement already satisfied: requests in /usr/local/lib/python3.11/dist-packages (from gpt4all[cuda]) (2.32.3)\n",
            "Requirement already satisfied: tqdm in /usr/local/lib/python3.11/dist-packages (from gpt4all[cuda]) (4.67.1)\n",
            "Collecting nvidia-cuda-runtime-cu11 (from gpt4all[cuda])\n",
            "  Downloading nvidia_cuda_runtime_cu11-11.8.89-py3-none-manylinux2014_x86_64.whl.metadata (1.5 kB)\n",
            "Collecting nvidia-cublas-cu11 (from gpt4all[cuda])\n",
            "  Downloading nvidia_cublas_cu11-11.11.3.6-py3-none-manylinux2014_x86_64.whl.metadata (1.5 kB)\n",
            "Requirement already satisfied: charset-normalizer<4,>=2 in /usr/local/lib/python3.11/dist-packages (from requests->gpt4all[cuda]) (3.4.1)\n",
            "Requirement already satisfied: idna<4,>=2.5 in /usr/local/lib/python3.11/dist-packages (from requests->gpt4all[cuda]) (3.10)\n",
            "Requirement already satisfied: urllib3<3,>=1.21.1 in /usr/local/lib/python3.11/dist-packages (from requests->gpt4all[cuda]) (2.3.0)\n",
            "Requirement already satisfied: certifi>=2017.4.17 in /usr/local/lib/python3.11/dist-packages (from requests->gpt4all[cuda]) (2025.1.31)\n",
            "Downloading gpt4all-2.8.2-py3-none-manylinux1_x86_64.whl (121.6 MB)\n",
            "\u001b[2K   \u001b[90m━━━━━━━━━━━━━━━━━━━━━━━━━━━━━━━━━━━━━━━━\u001b[0m \u001b[32m121.6/121.6 MB\u001b[0m \u001b[31m7.1 MB/s\u001b[0m eta \u001b[36m0:00:00\u001b[0m\n",
            "\u001b[?25hDownloading nvidia_cublas_cu11-11.11.3.6-py3-none-manylinux2014_x86_64.whl (417.9 MB)\n",
            "\u001b[2K   \u001b[90m━━━━━━━━━━━━━━━━━━━━━━━━━━━━━━━━━━━━━━━━\u001b[0m \u001b[32m417.9/417.9 MB\u001b[0m \u001b[31m4.3 MB/s\u001b[0m eta \u001b[36m0:00:00\u001b[0m\n",
            "\u001b[?25hDownloading nvidia_cuda_runtime_cu11-11.8.89-py3-none-manylinux2014_x86_64.whl (875 kB)\n",
            "\u001b[2K   \u001b[90m━━━━━━━━━━━━━━━━━━━━━━━━━━━━━━━━━━━━━━━━\u001b[0m \u001b[32m875.6/875.6 kB\u001b[0m \u001b[31m26.0 MB/s\u001b[0m eta \u001b[36m0:00:00\u001b[0m\n",
            "\u001b[?25hInstalling collected packages: nvidia-cuda-runtime-cu11, nvidia-cublas-cu11, gpt4all\n",
            "Successfully installed gpt4all-2.8.2 nvidia-cublas-cu11-11.11.3.6 nvidia-cuda-runtime-cu11-11.8.89\n"
          ]
        }
      ]
    },
    {
      "cell_type": "code",
      "source": [
        "!wget https://huggingface.co/bartowski/Llama-3.2-1B-Instruct-GGUF/resolve/main/Llama-3.2-1B-Instruct-IQ3_M.gguf"
      ],
      "metadata": {
        "colab": {
          "base_uri": "https://localhost:8080/"
        },
        "id": "E2JLX6_Bkeze",
        "outputId": "9bf05032-075c-4efc-c210-57e846a31fad"
      },
      "execution_count": 2,
      "outputs": [
        {
          "output_type": "stream",
          "name": "stdout",
          "text": [
            "--2025-02-19 04:59:00--  https://huggingface.co/bartowski/Llama-3.2-1B-Instruct-GGUF/resolve/main/Llama-3.2-1B-Instruct-IQ3_M.gguf\n",
            "Resolving huggingface.co (huggingface.co)... 3.165.160.12, 3.165.160.59, 3.165.160.61, ...\n",
            "Connecting to huggingface.co (huggingface.co)|3.165.160.12|:443... connected.\n",
            "HTTP request sent, awaiting response... 302 Found\n",
            "Location: https://cdn-lfs-us-1.hf.co/repos/83/6a/836a2383aaf9396df7e51349b13c7700c207710455ae1353ae38fbaa0e4c9cfa/c80cc062a721c267ec50fee83fe6b55d36fc7abe708392dbe22e16fbd42687e8?response-content-disposition=inline%3B+filename*%3DUTF-8%27%27Llama-3.2-1B-Instruct-IQ3_M.gguf%3B+filename%3D%22Llama-3.2-1B-Instruct-IQ3_M.gguf%22%3B&Expires=1739944741&Policy=eyJTdGF0ZW1lbnQiOlt7IkNvbmRpdGlvbiI6eyJEYXRlTGVzc1RoYW4iOnsiQVdTOkVwb2NoVGltZSI6MTczOTk0NDc0MX19LCJSZXNvdXJjZSI6Imh0dHBzOi8vY2RuLWxmcy11cy0xLmhmLmNvL3JlcG9zLzgzLzZhLzgzNmEyMzgzYWFmOTM5NmRmN2U1MTM0OWIxM2M3NzAwYzIwNzcxMDQ1NWFlMTM1M2FlMzhmYmFhMGU0YzljZmEvYzgwY2MwNjJhNzIxYzI2N2VjNTBmZWU4M2ZlNmI1NWQzNmZjN2FiZTcwODM5MmRiZTIyZTE2ZmJkNDI2ODdlOD9yZXNwb25zZS1jb250ZW50LWRpc3Bvc2l0aW9uPSoifV19&Signature=d9ahWQl5QtFDrD0upUNWCRgOl0hgAIiiCAOviGIeuqwHmdKmXZOafBX%7EW5uqndDy2NxevnrmJ0ilKbX5bvzd8L0fdjPmECIt5tpHI9gkROQhlYY46h6T-OKNe01xCCwzzsOPf3na68LrI5xwmcevYgi-pJutzNpnnn0o-hMmJ63Lca6mUo%7EOm7Dwiv15r6ZsP7DTsLqMd9Gn3BpwFGBvcBMgu-L9f4jUHV%7EaLrdNLhp0ZGtAEMTCr7nHnFFs%7EpQAUWn6Fizlnu-SBrBlgUMwiU5YY8aOWbDlt6cWe3U39ZqkZSmt-po4PyoFY4VwnV8KUEiMsq1r4ntAW59cCTxgLQ__&Key-Pair-Id=K24J24Z295AEI9 [following]\n",
            "--2025-02-19 04:59:01--  https://cdn-lfs-us-1.hf.co/repos/83/6a/836a2383aaf9396df7e51349b13c7700c207710455ae1353ae38fbaa0e4c9cfa/c80cc062a721c267ec50fee83fe6b55d36fc7abe708392dbe22e16fbd42687e8?response-content-disposition=inline%3B+filename*%3DUTF-8%27%27Llama-3.2-1B-Instruct-IQ3_M.gguf%3B+filename%3D%22Llama-3.2-1B-Instruct-IQ3_M.gguf%22%3B&Expires=1739944741&Policy=eyJTdGF0ZW1lbnQiOlt7IkNvbmRpdGlvbiI6eyJEYXRlTGVzc1RoYW4iOnsiQVdTOkVwb2NoVGltZSI6MTczOTk0NDc0MX19LCJSZXNvdXJjZSI6Imh0dHBzOi8vY2RuLWxmcy11cy0xLmhmLmNvL3JlcG9zLzgzLzZhLzgzNmEyMzgzYWFmOTM5NmRmN2U1MTM0OWIxM2M3NzAwYzIwNzcxMDQ1NWFlMTM1M2FlMzhmYmFhMGU0YzljZmEvYzgwY2MwNjJhNzIxYzI2N2VjNTBmZWU4M2ZlNmI1NWQzNmZjN2FiZTcwODM5MmRiZTIyZTE2ZmJkNDI2ODdlOD9yZXNwb25zZS1jb250ZW50LWRpc3Bvc2l0aW9uPSoifV19&Signature=d9ahWQl5QtFDrD0upUNWCRgOl0hgAIiiCAOviGIeuqwHmdKmXZOafBX%7EW5uqndDy2NxevnrmJ0ilKbX5bvzd8L0fdjPmECIt5tpHI9gkROQhlYY46h6T-OKNe01xCCwzzsOPf3na68LrI5xwmcevYgi-pJutzNpnnn0o-hMmJ63Lca6mUo%7EOm7Dwiv15r6ZsP7DTsLqMd9Gn3BpwFGBvcBMgu-L9f4jUHV%7EaLrdNLhp0ZGtAEMTCr7nHnFFs%7EpQAUWn6Fizlnu-SBrBlgUMwiU5YY8aOWbDlt6cWe3U39ZqkZSmt-po4PyoFY4VwnV8KUEiMsq1r4ntAW59cCTxgLQ__&Key-Pair-Id=K24J24Z295AEI9\n",
            "Resolving cdn-lfs-us-1.hf.co (cdn-lfs-us-1.hf.co)... 3.165.160.20, 3.165.160.77, 3.165.160.38, ...\n",
            "Connecting to cdn-lfs-us-1.hf.co (cdn-lfs-us-1.hf.co)|3.165.160.20|:443... connected.\n",
            "HTTP request sent, awaiting response... 200 OK\n",
            "Length: 657289344 (627M) [binary/octet-stream]\n",
            "Saving to: ‘Llama-3.2-1B-Instruct-IQ3_M.gguf’\n",
            "\n",
            "Llama-3.2-1B-Instru 100%[===================>] 626.84M  40.4MB/s    in 16s     \n",
            "\n",
            "2025-02-19 04:59:16 (40.1 MB/s) - ‘Llama-3.2-1B-Instruct-IQ3_M.gguf’ saved [657289344/657289344]\n",
            "\n"
          ]
        }
      ]
    },
    {
      "cell_type": "code",
      "source": [
        "from gpt4all import GPT4All\n",
        "\n",
        "model = GPT4All(\"/content/Llama-3.2-1B-Instruct-IQ3_M.gguf\", device=\"cuda\", ngl=-1) # device='amd', device='intel'\n",
        "output = model.generate(\"The capital of France is \", max_tokens=111)\n",
        "print(output)"
      ],
      "metadata": {
        "colab": {
          "base_uri": "https://localhost:8080/"
        },
        "id": "1V6T3JC7kfc9",
        "outputId": "7c6bd2d8-3bf9-4b2c-aa71-aa4377f33728"
      },
      "execution_count": 3,
      "outputs": [
        {
          "output_type": "stream",
          "name": "stdout",
          "text": [
            "1. Paris.\n",
            "Here are some interesting facts about the city:\n",
            "Paris, also known as La Ville Lumière (City of Light), has a rich history dating back to ancient times and was once considered one of the most beautiful cities in Europe during its peak period under the French monarchy.\n",
            "\n",
            "In recent years, it's become increasingly popular with tourists from all over the world. However, Paris is not just about sightseeing; there are plenty of things you can do here that will make your visit truly unforgettable!\n",
            "\n",
            "Some interesting facts:\n",
            "\n",
            "* The Eiffel Tower\n"
          ]
        }
      ]
    },
    {
      "cell_type": "code",
      "source": [
        "!wget https://huggingface.co/MaziyarPanahi/Mistral-7B-Instruct-v0.3-GGUF/resolve/main/Mistral-7B-Instruct-v0.3.Q4_K_M.gguf"
      ],
      "metadata": {
        "colab": {
          "base_uri": "https://localhost:8080/"
        },
        "id": "TwXkZtoRlKo_",
        "outputId": "70df969d-4058-4ec9-80d8-56fc39753bbf"
      },
      "execution_count": 4,
      "outputs": [
        {
          "output_type": "stream",
          "name": "stdout",
          "text": [
            "--2025-02-19 05:01:05--  https://huggingface.co/MaziyarPanahi/Mistral-7B-Instruct-v0.3-GGUF/resolve/main/Mistral-7B-Instruct-v0.3.Q4_K_M.gguf\n",
            "Resolving huggingface.co (huggingface.co)... 3.165.160.12, 3.165.160.59, 3.165.160.61, ...\n",
            "Connecting to huggingface.co (huggingface.co)|3.165.160.12|:443... connected.\n",
            "HTTP request sent, awaiting response... 302 Found\n",
            "Location: https://cdn-lfs-us-1.hf.co/repos/e3/d1/e3d1a1e0851fc7d0ac2fb38ba7fdbf065971c29e410826e3c21d2f7f4c7a67a5/14850c84ff9f06e9b51d505d64815d5cc0cea0257380353ac0b3d21b21f6e024?response-content-disposition=inline%3B+filename*%3DUTF-8%27%27Mistral-7B-Instruct-v0.3.Q4_K_M.gguf%3B+filename%3D%22Mistral-7B-Instruct-v0.3.Q4_K_M.gguf%22%3B&Expires=1739944865&Policy=eyJTdGF0ZW1lbnQiOlt7IkNvbmRpdGlvbiI6eyJEYXRlTGVzc1RoYW4iOnsiQVdTOkVwb2NoVGltZSI6MTczOTk0NDg2NX19LCJSZXNvdXJjZSI6Imh0dHBzOi8vY2RuLWxmcy11cy0xLmhmLmNvL3JlcG9zL2UzL2QxL2UzZDFhMWUwODUxZmM3ZDBhYzJmYjM4YmE3ZmRiZjA2NTk3MWMyOWU0MTA4MjZlM2MyMWQyZjdmNGM3YTY3YTUvMTQ4NTBjODRmZjlmMDZlOWI1MWQ1MDVkNjQ4MTVkNWNjMGNlYTAyNTczODAzNTNhYzBiM2QyMWIyMWY2ZTAyND9yZXNwb25zZS1jb250ZW50LWRpc3Bvc2l0aW9uPSoifV19&Signature=EsGS4FsAS4QSGFFx%7EA3tGVtXR-14MiCAgDbgNb65QbfUAF6TzEbzQg9pStishakCOGX3xoJvxthjrLGqe-JFNOJvJjoHHj4RJY5EFushyFlgAxLxpwbOWrPCWevNZJ3F-J9OgCACQC9FJy2baYDpUbi%7EaV7UkdcvYxtOe2irXJk4Zhyvzj%7EvmKr93qMqtOlRBtKL2IHLSAiopmPXNvYXx9O3P2b9S4ICrmHpuvJIGVdImlFHWIUhC45oL3PKUj2B9jye4oTS474M%7EV8WtLgzj7krf5p%7Eo2Jo7Uf1th7yDFZjubROuvxvlKy8jKxLN4ppdh9OgJH1uQ9wP35l9eQFKw__&Key-Pair-Id=K24J24Z295AEI9 [following]\n",
            "--2025-02-19 05:01:05--  https://cdn-lfs-us-1.hf.co/repos/e3/d1/e3d1a1e0851fc7d0ac2fb38ba7fdbf065971c29e410826e3c21d2f7f4c7a67a5/14850c84ff9f06e9b51d505d64815d5cc0cea0257380353ac0b3d21b21f6e024?response-content-disposition=inline%3B+filename*%3DUTF-8%27%27Mistral-7B-Instruct-v0.3.Q4_K_M.gguf%3B+filename%3D%22Mistral-7B-Instruct-v0.3.Q4_K_M.gguf%22%3B&Expires=1739944865&Policy=eyJTdGF0ZW1lbnQiOlt7IkNvbmRpdGlvbiI6eyJEYXRlTGVzc1RoYW4iOnsiQVdTOkVwb2NoVGltZSI6MTczOTk0NDg2NX19LCJSZXNvdXJjZSI6Imh0dHBzOi8vY2RuLWxmcy11cy0xLmhmLmNvL3JlcG9zL2UzL2QxL2UzZDFhMWUwODUxZmM3ZDBhYzJmYjM4YmE3ZmRiZjA2NTk3MWMyOWU0MTA4MjZlM2MyMWQyZjdmNGM3YTY3YTUvMTQ4NTBjODRmZjlmMDZlOWI1MWQ1MDVkNjQ4MTVkNWNjMGNlYTAyNTczODAzNTNhYzBiM2QyMWIyMWY2ZTAyND9yZXNwb25zZS1jb250ZW50LWRpc3Bvc2l0aW9uPSoifV19&Signature=EsGS4FsAS4QSGFFx%7EA3tGVtXR-14MiCAgDbgNb65QbfUAF6TzEbzQg9pStishakCOGX3xoJvxthjrLGqe-JFNOJvJjoHHj4RJY5EFushyFlgAxLxpwbOWrPCWevNZJ3F-J9OgCACQC9FJy2baYDpUbi%7EaV7UkdcvYxtOe2irXJk4Zhyvzj%7EvmKr93qMqtOlRBtKL2IHLSAiopmPXNvYXx9O3P2b9S4ICrmHpuvJIGVdImlFHWIUhC45oL3PKUj2B9jye4oTS474M%7EV8WtLgzj7krf5p%7Eo2Jo7Uf1th7yDFZjubROuvxvlKy8jKxLN4ppdh9OgJH1uQ9wP35l9eQFKw__&Key-Pair-Id=K24J24Z295AEI9\n",
            "Resolving cdn-lfs-us-1.hf.co (cdn-lfs-us-1.hf.co)... 3.165.160.77, 3.165.160.20, 3.165.160.3, ...\n",
            "Connecting to cdn-lfs-us-1.hf.co (cdn-lfs-us-1.hf.co)|3.165.160.77|:443... connected.\n",
            "HTTP request sent, awaiting response... 200 OK\n",
            "Length: 4372811936 (4.1G) [binary/octet-stream]\n",
            "Saving to: ‘Mistral-7B-Instruct-v0.3.Q4_K_M.gguf’\n",
            "\n",
            "Mistral-7B-Instruct 100%[===================>]   4.07G  40.1MB/s    in 1m 44s  \n",
            "\n",
            "2025-02-19 05:02:49 (40.2 MB/s) - ‘Mistral-7B-Instruct-v0.3.Q4_K_M.gguf’ saved [4372811936/4372811936]\n",
            "\n"
          ]
        }
      ]
    },
    {
      "cell_type": "code",
      "source": [
        "from gpt4all import GPT4All\n",
        "\n",
        "model = GPT4All(\"/content/Mistral-7B-Instruct-v0.3.Q4_K_M.gguf\", device=\"cuda\", ngl=-1) # device='amd', device='intel'\n",
        "output = model.generate(\"who is python?\", max_tokens=111)\n",
        "print(output)"
      ],
      "metadata": {
        "colab": {
          "base_uri": "https://localhost:8080/"
        },
        "id": "6v0j7CH9lL6G",
        "outputId": "dc427e2c-67ff-4b99-aa1b-8f88c9c99031"
      },
      "execution_count": 1,
      "outputs": [
        {
          "output_type": "stream",
          "name": "stdout",
          "text": [
            "\n",
            "\n",
            "Python is a popular high-level programming language known for its simplicity and readability. It was created by Guido van Rossum in the late 1980s and first released in 1991. Python supports multiple programming paradigms, including procedural, object-oriented, and functional programming.\n",
            "\n",
            "Python is widely used for various purposes such as web development (Django, Flask), data analysis (Pandas, NumPy), machine learning (Scikit-learn, TensorFlow),\n"
          ]
        }
      ]
    },
    {
      "cell_type": "code",
      "source": [
        "!wget https://huggingface.co/ibm-ai-platform/Bamba-9B/resolve/main/bamba-9b.gguf"
      ],
      "metadata": {
        "id": "TVPj_wVqmFK5"
      },
      "execution_count": null,
      "outputs": []
    }
  ]
}